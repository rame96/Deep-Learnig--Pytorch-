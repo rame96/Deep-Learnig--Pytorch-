{
  "nbformat": 4,
  "nbformat_minor": 0,
  "metadata": {
    "colab": {
      "provenance": []
    },
    "kernelspec": {
      "name": "python3",
      "display_name": "Python 3"
    },
    "language_info": {
      "name": "python"
    }
  },
  "cells": [
    {
      "cell_type": "code",
      "source": [
        "import torch\n",
        "from torch import nn\n",
        "import matplotlib.pyplot as plt"
      ],
      "metadata": {
        "id": "7q5eYu7n1n8_"
      },
      "execution_count": 41,
      "outputs": []
    },
    {
      "cell_type": "code",
      "source": [
        "# Create a straight line dataset using the linear regression formula (weight * X + bias).\n",
        "# Set weight=0.3 and bias=0.9 there should be at least 100 datapoints total.\n",
        "\n",
        "weight = 0.3\n",
        "bias = 0.9\n",
        "\n",
        "start = 0\n",
        "end = 1\n",
        "step = 0.01\n",
        "\n",
        "X = torch.arange(start,end,step).unsqueeze(dim=1)\n",
        "y = weight * X + bias\n",
        "\n",
        "len(X), len(y)"
      ],
      "metadata": {
        "colab": {
          "base_uri": "https://localhost:8080/"
        },
        "id": "KCXfFazY16CB",
        "outputId": "87ef0cd9-dbdf-491f-cb09-9b45b3b193f3"
      },
      "execution_count": 42,
      "outputs": [
        {
          "output_type": "execute_result",
          "data": {
            "text/plain": [
              "(100, 100)"
            ]
          },
          "metadata": {},
          "execution_count": 42
        }
      ]
    },
    {
      "cell_type": "code",
      "source": [
        "X[:10], y[:10]"
      ],
      "metadata": {
        "colab": {
          "base_uri": "https://localhost:8080/"
        },
        "id": "ALYSuVbF2nSe",
        "outputId": "ed42476e-f050-4b91-c4f0-d414b9e832ce"
      },
      "execution_count": 43,
      "outputs": [
        {
          "output_type": "execute_result",
          "data": {
            "text/plain": [
              "(tensor([[0.0000],\n",
              "         [0.0100],\n",
              "         [0.0200],\n",
              "         [0.0300],\n",
              "         [0.0400],\n",
              "         [0.0500],\n",
              "         [0.0600],\n",
              "         [0.0700],\n",
              "         [0.0800],\n",
              "         [0.0900]]),\n",
              " tensor([[0.9000],\n",
              "         [0.9030],\n",
              "         [0.9060],\n",
              "         [0.9090],\n",
              "         [0.9120],\n",
              "         [0.9150],\n",
              "         [0.9180],\n",
              "         [0.9210],\n",
              "         [0.9240],\n",
              "         [0.9270]]))"
            ]
          },
          "metadata": {},
          "execution_count": 43
        }
      ]
    },
    {
      "cell_type": "code",
      "source": [
        "#Split the data into 80% training, 20% testing.\n",
        "split = int(0.8 * len(X))\n",
        "X_train , y_train  = X[:split], y[:split]\n",
        "X_test, y_test = X[split:], y[split:]\n",
        "\n",
        "len(X_train), len(y_train), len(X_test), len(y_test)"
      ],
      "metadata": {
        "colab": {
          "base_uri": "https://localhost:8080/"
        },
        "id": "EepgT5lK3Ixp",
        "outputId": "aefd7f9d-b369-4f72-a915-02a6ae2b9fd7"
      },
      "execution_count": 44,
      "outputs": [
        {
          "output_type": "execute_result",
          "data": {
            "text/plain": [
              "(80, 80, 20, 20)"
            ]
          },
          "metadata": {},
          "execution_count": 44
        }
      ]
    },
    {
      "cell_type": "code",
      "source": [
        "#Plot the training and testing data so it becomes visual.\n",
        "def plot_prediction(\n",
        "    train_data = X_train,\n",
        "    train_labels = y_train,\n",
        "    test_data = X_test,\n",
        "    test_labels = y_test,\n",
        "    prediction = None):\n",
        "\n",
        "\n",
        "  plt.scatter(train_data, train_labels, c=\"b\", s=4, label=\"Training data\")\n",
        "  plt.scatter(test_data, test_labels, c=\"g\", s=4, label=\"Testing data\")\n",
        "\n",
        "  if prediction is not None:\n",
        "    plt.scatter(test_data, prediction, c=\"r\", s=4, label=\"Prediction\")\n",
        "\n",
        "  plt.legend(prop={\"size\": 14})"
      ],
      "metadata": {
        "id": "E8RxFsj13AN9"
      },
      "execution_count": 45,
      "outputs": []
    },
    {
      "cell_type": "code",
      "source": [
        "plot_prediction()"
      ],
      "metadata": {
        "colab": {
          "base_uri": "https://localhost:8080/",
          "height": 430
        },
        "id": "XBBgQg5H4axW",
        "outputId": "f23fd1f6-6080-4946-adbf-f1562f4f55a9"
      },
      "execution_count": 46,
      "outputs": [
        {
          "output_type": "display_data",
          "data": {
            "text/plain": [
              "<Figure size 640x480 with 1 Axes>"
            ],
            "image/png": "[encoded data removed]"
          },
          "metadata": {}
        }
      ]
    },
    {
      "cell_type": "code",
      "source": [
        "#Build a PyTorch model by subclassing nn.Module.\n",
        "\n",
        "class LinearRegressionModelV1(nn.Module):\n",
        "  def __init__(self):\n",
        "    super().__init__()\n",
        "    self.linear = nn.Linear(in_features=1, out_features=1)\n",
        "\n",
        "  def forward(self, x: torch.Tensor) -> torch.Tensor:\n",
        "    return self.linear(x)\n",
        "\n",
        "model_0 = LinearRegressionModelV1()\n",
        "model_0, model_0.state_dict()"
      ],
      "metadata": {
        "colab": {
          "base_uri": "https://localhost:8080/"
        },
        "id": "li2id5cY4om2",
        "outputId": "28fcff64-c62a-4109-ca3a-879e8c6d56dd"
      },
      "execution_count": 55,
      "outputs": [
        {
          "output_type": "execute_result",
          "data": {
            "text/plain": [
              "(LinearRegressionModelV1(\n",
              "   (linear): Linear(in_features=1, out_features=1, bias=True)\n",
              " ),\n",
              " OrderedDict([('linear.weight', tensor([[0.7645]])),\n",
              "              ('linear.bias', tensor([0.8300]))]))"
            ]
          },
          "metadata": {},
          "execution_count": 55
        }
      ]
    },
    {
      "cell_type": "code",
      "source": [
        "# Turn model into evaluation mode\n",
        "model_0.eval()\n",
        "\n",
        "# Make predictions on the test data\n",
        "with torch.inference_mode():\n",
        "    y_preds = model_0(X_test)\n",
        "y_preds"
      ],
      "metadata": {
        "colab": {
          "base_uri": "https://localhost:8080/"
        },
        "id": "qkH6olWj_66c",
        "outputId": "0126a043-fd7d-49d5-b674-da779daf8ca9"
      },
      "execution_count": 57,
      "outputs": [
        {
          "output_type": "execute_result",
          "data": {
            "text/plain": [
              "tensor([[1.4416],\n",
              "        [1.4493],\n",
              "        [1.4569],\n",
              "        [1.4646],\n",
              "        [1.4722],\n",
              "        [1.4799],\n",
              "        [1.4875],\n",
              "        [1.4952],\n",
              "        [1.5028],\n",
              "        [1.5104],\n",
              "        [1.5181],\n",
              "        [1.5257],\n",
              "        [1.5334],\n",
              "        [1.5410],\n",
              "        [1.5487],\n",
              "        [1.5563],\n",
              "        [1.5640],\n",
              "        [1.5716],\n",
              "        [1.5793],\n",
              "        [1.5869]])"
            ]
          },
          "metadata": {},
          "execution_count": 57
        }
      ]
    },
    {
      "cell_type": "code",
      "source": [
        "# Put data on the CPU and plot it\n",
        "plot_prediction(prediction=y_preds)"
      ],
      "metadata": {
        "colab": {
          "base_uri": "https://localhost:8080/",
          "height": 430
        },
        "id": "03b6Xma5ACYj",
        "outputId": "723760e9-5cb4-4131-cfb2-e8bc7100dfa2"
      },
      "execution_count": 59,
      "outputs": [
        {
          "output_type": "display_data",
          "data": {
            "text/plain": [
              "<Figure size 640x480 with 1 Axes>"
            ],
            "image/png": "[encoded data removed]"
          },
          "metadata": {}
        }
      ]
    },
    {
      "cell_type": "code",
      "source": [
        "# Check model device\n",
        "next(model_0.parameters()).device"
      ],
      "metadata": {
        "colab": {
          "base_uri": "https://localhost:8080/"
        },
        "id": "0OcEkEPN6I5q",
        "outputId": "708bea4b-63b3-470f-91a4-0b7c29029609"
      },
      "execution_count": 60,
      "outputs": [
        {
          "output_type": "execute_result",
          "data": {
            "text/plain": [
              "device(type='cpu')"
            ]
          },
          "metadata": {},
          "execution_count": 60
        }
      ]
    },
    {
      "cell_type": "code",
      "source": [
        "#Create a loss function and optimizer using nn.L1Loss() and torch.optim.SGD(params, lr) respectively.\n",
        "\n",
        "loss_fn = nn.L1Loss()\n",
        "\n",
        "# Create optimizer\n",
        "optimizer = torch.optim.SGD(params=model_0.parameters(), # optimize newly created model's parameters\n",
        "                            lr=0.01)"
      ],
      "metadata": {
        "id": "RI4aGeMe6Pz9"
      },
      "execution_count": 61,
      "outputs": []
    },
    {
      "cell_type": "code",
      "source": [
        "#Write a training loop to perform the appropriate training steps for 300 epochs.\n",
        "#The training loop should test the model on the test dataset every 20 epochs.\n",
        "\n",
        "torch.manual_seed(42)\n",
        "\n",
        "# Set the number of epochs\n",
        "epochs = 300\n",
        "\n",
        "\n",
        "for epoch in range(epochs):\n",
        "    ### Training\n",
        "    model_0.train() # train mode is on by default after construction\n",
        "\n",
        "    # 1. Forward pass\n",
        "    y_pred = model_0(X_train)\n",
        "\n",
        "    # 2. Calculate loss\n",
        "    loss = loss_fn(y_pred, y_train)\n",
        "\n",
        "    # 3. Zero grad optimizer\n",
        "    optimizer.zero_grad()\n",
        "\n",
        "    # 4. Loss backward\n",
        "    loss.backward()\n",
        "\n",
        "    # 5. Step the optimizer\n",
        "    optimizer.step()\n",
        "\n",
        "    if epoch % 20 == 0:\n",
        "      ### Testing\n",
        "      model_0.eval() # put the model in evaluation mode for testing (inference)\n",
        "      # 1. Forward pass\n",
        "      with torch.inference_mode():\n",
        "\n",
        "        test_pred = model_0(X_test)\n",
        "\n",
        "        # 2. Calculate the loss\n",
        "        test_loss = loss_fn(test_pred, y_test)\n",
        "\n",
        "\n",
        "        print(f\"Epoch: {epoch} | Train loss: {loss} | Test loss: {test_loss}\")"
      ],
      "metadata": {
        "colab": {
          "base_uri": "https://localhost:8080/"
        },
        "id": "rbVMca6K7ulB",
        "outputId": "ae8146de-c3c4-4e62-92f5-fbad879ef97a"
      },
      "execution_count": 62,
      "outputs": [
        {
          "output_type": "stream",
          "name": "stdout",
          "text": [
            "Epoch: 0 | Train loss: 0.12756133079528809 | Test loss: 0.33650320768356323\n",
            "Epoch: 20 | Train loss: 0.08187223970890045 | Test loss: 0.2184026539325714\n",
            "Epoch: 40 | Train loss: 0.07207288593053818 | Test loss: 0.17458662390708923\n",
            "Epoch: 60 | Train loss: 0.06507987529039383 | Test loss: 0.15310418605804443\n",
            "Epoch: 80 | Train loss: 0.05822876840829849 | Test loss: 0.1367770880460739\n",
            "Epoch: 100 | Train loss: 0.05137667804956436 | Test loss: 0.12079393863677979\n",
            "Epoch: 120 | Train loss: 0.044525571167469025 | Test loss: 0.10446684062480927\n",
            "Epoch: 140 | Train loss: 0.037674423307180405 | Test loss: 0.08813951164484024\n",
            "Epoch: 160 | Train loss: 0.03082224354147911 | Test loss: 0.0721558928489685\n",
            "Epoch: 180 | Train loss: 0.02397105097770691 | Test loss: 0.055828340351581573\n",
            "Epoch: 200 | Train loss: 0.01711984910070896 | Test loss: 0.03950077295303345\n",
            "Epoch: 220 | Train loss: 0.010267667472362518 | Test loss: 0.02351721003651619\n",
            "Epoch: 240 | Train loss: 0.0034169009886682034 | Test loss: 0.007191836833953857\n",
            "Epoch: 260 | Train loss: 0.007878491654992104 | Test loss: 0.007064247038215399\n",
            "Epoch: 280 | Train loss: 0.007878491654992104 | Test loss: 0.007064247038215399\n"
          ]
        }
      ]
    },
    {
      "cell_type": "code",
      "source": [
        "# Turn model into evaluation mode\n",
        "model_0.eval()\n",
        "\n",
        "#Make predictions with the trained model on the test data.\n",
        "with torch.inference_mode():\n",
        "    y_preds = model_0(X_test)\n",
        "y_preds"
      ],
      "metadata": {
        "colab": {
          "base_uri": "https://localhost:8080/"
        },
        "id": "FKyFIHX3AWFb",
        "outputId": "d76ca256-6410-446f-d9c8-273df87585d1"
      },
      "execution_count": 63,
      "outputs": [
        {
          "output_type": "execute_result",
          "data": {
            "text/plain": [
              "tensor([[1.1333],\n",
              "        [1.1363],\n",
              "        [1.1393],\n",
              "        [1.1423],\n",
              "        [1.1454],\n",
              "        [1.1484],\n",
              "        [1.1514],\n",
              "        [1.1545],\n",
              "        [1.1575],\n",
              "        [1.1605],\n",
              "        [1.1635],\n",
              "        [1.1666],\n",
              "        [1.1696],\n",
              "        [1.1726],\n",
              "        [1.1757],\n",
              "        [1.1787],\n",
              "        [1.1817],\n",
              "        [1.1847],\n",
              "        [1.1878],\n",
              "        [1.1908]])"
            ]
          },
          "metadata": {},
          "execution_count": 63
        }
      ]
    },
    {
      "cell_type": "code",
      "source": [
        "#Visualize these predictions against the original training and testing data (note: you may need to make sure the predictions are not on the GPU if you want to use non-CUDA-enabled libraries such as matplotlib to plot).\n",
        "plot_prediction(prediction=y_preds)"
      ],
      "metadata": {
        "colab": {
          "base_uri": "https://localhost:8080/",
          "height": 430
        },
        "id": "FZ3-TNddA0F2",
        "outputId": "bd6eb221-a862-4eec-80eb-763ddb55ef25"
      },
      "execution_count": 64,
      "outputs": [
        {
          "output_type": "display_data",
          "data": {
            "text/plain": [
              "<Figure size 640x480 with 1 Axes>"
            ],
            "image/png": "[encoded data removed]"
          },
          "metadata": {}
        }
      ]
    },
    {
      "cell_type": "code",
      "source": [
        "#Save your trained model's state_dict() to file.\n",
        "from pathlib import Path\n",
        "\n",
        "# 1. Create models directory\n",
        "MODEL_PATH = Path(\"models\")\n",
        "MODEL_PATH.mkdir(parents=True, exist_ok=True)\n",
        "\n",
        "# 2. Create model save path\n",
        "MODEL_NAME = \"01_pytorch_workflow_model_1.pth\"\n",
        "MODEL_SAVE_PATH = MODEL_PATH / MODEL_NAME\n",
        "\n",
        "# 3. Save the model state dict\n",
        "print(f\"Saving model to: {MODEL_SAVE_PATH}\")\n",
        "torch.save(obj=model_0.state_dict(), # only saving the state_dict() only saves the models learned parameters\n",
        "           f=MODEL_SAVE_PATH)"
      ],
      "metadata": {
        "colab": {
          "base_uri": "https://localhost:8080/"
        },
        "id": "biFzNbc4BFul",
        "outputId": "4ce402a8-778f-4fc7-8c9e-ea0e1b9cec13"
      },
      "execution_count": 65,
      "outputs": [
        {
          "output_type": "stream",
          "name": "stdout",
          "text": [
            "Saving model to: models/01_pytorch_workflow_model_1.pth\n"
          ]
        }
      ]
    },
    {
      "cell_type": "code",
      "source": [
        "#Create a new instance of your model class you made in 2. and load in the state_dict() you just saved to it.\n",
        "# Instantiate a fresh instance of LinearRegressionModelV2\n",
        "loaded_model_1 = LinearRegressionModelV1()\n",
        "\n",
        "# Load model state dict\n",
        "loaded_model_1.load_state_dict(torch.load(MODEL_SAVE_PATH))\n",
        "\n",
        "# Put model to target device (if your data is on GPU, model will have to be on GPU to make predictions)\n",
        "# loaded_model_1.to(device)\n",
        "\n",
        "print(f\"Loaded model:\\n{loaded_model_1}\")\n",
        "#print(f\"Model on device:\\n{next(loaded_model_1.parameters()).device}\")"
      ],
      "metadata": {
        "colab": {
          "base_uri": "https://localhost:8080/"
        },
        "id": "1Yt8MZdgB6IT",
        "outputId": "b8f9562e-5bcf-47fc-ef9c-84e589d11661"
      },
      "execution_count": 68,
      "outputs": [
        {
          "output_type": "stream",
          "name": "stdout",
          "text": [
            "Loaded model:\n",
            "LinearRegressionModelV1(\n",
            "  (linear): Linear(in_features=1, out_features=1, bias=True)\n",
            ")\n"
          ]
        }
      ]
    },
    {
      "cell_type": "code",
      "source": [
        "#Perform predictions on your test data with the loaded model and confirm they match the original model predictions from 4.\n",
        "# Evaluate loaded model\n",
        "loaded_model_1.eval()\n",
        "with torch.inference_mode():\n",
        "    loaded_model_1_preds = loaded_model_1(X_test)\n",
        "y_preds == loaded_model_1_preds"
      ],
      "metadata": {
        "colab": {
          "base_uri": "https://localhost:8080/"
        },
        "id": "f-ar1opWB86X",
        "outputId": "a25ec8ba-3eab-4fb6-e56a-e0de7fd3fff2"
      },
      "execution_count": 69,
      "outputs": [
        {
          "output_type": "execute_result",
          "data": {
            "text/plain": [
              "tensor([[True],\n",
              "        [True],\n",
              "        [True],\n",
              "        [True],\n",
              "        [True],\n",
              "        [True],\n",
              "        [True],\n",
              "        [True],\n",
              "        [True],\n",
              "        [True],\n",
              "        [True],\n",
              "        [True],\n",
              "        [True],\n",
              "        [True],\n",
              "        [True],\n",
              "        [True],\n",
              "        [True],\n",
              "        [True],\n",
              "        [True],\n",
              "        [True]])"
            ]
          },
          "metadata": {},
          "execution_count": 69
        }
      ]
    }
  ]
}